{
 "cells": [
  {
   "cell_type": "code",
   "execution_count": 110,
   "metadata": {
    "id": "QkI5MoXZuamk"
   },
   "outputs": [],
   "source": [
    "\n",
    "import math\n",
    "import os\n",
    "import pandas as pd\n",
    "import numpy as np\n",
    "import seaborn as sns\n",
    "import matplotlib.pyplot as plt\n",
    "import matplotlib.gridspec as gridspec\n",
    "import itertools\n",
    "import warnings\n",
    "from sklearn.svm import SVC\n",
    "warnings.filterwarnings('ignore')\n",
    "from sklearn.tree import DecisionTreeClassifier\n",
    "from sklearn.model_selection import train_test_split\n",
    "from sklearn import metrics\n",
    "from sklearn.metrics import confusion_matrix\n",
    "from sklearn.linear_model import LinearRegression \n",
    "from sklearn.metrics import r2_score\n",
    "from sklearn.linear_model import LogisticRegression\n",
    "from sklearn.metrics import accuracy_score\n",
    "from sklearn.preprocessing import StandardScaler\n",
    "from sklearn.ensemble import RandomForestClassifier\n",
    "from sklearn.neighbors import KNeighborsClassifier\n",
    "from sklearn.model_selection import GridSearchCV\n",
    "pd.plotting.register_matplotlib_converters()\n",
    "%matplotlib inline\n",
    "import seaborn as sns"
   ]
  },
  {
   "cell_type": "code",
   "execution_count": 111,
   "metadata": {
    "colab": {
     "base_uri": "https://localhost:8080/",
     "height": 408
    },
    "id": "UnVeQ10jXZjE",
    "outputId": "944a043e-f654-4dab-d143-889f3118f559"
   },
   "outputs": [],
   "source": [
    "df17 = pd.read_csv('C:\\\\Users\\\\Roxton\\\\Desktop\\\\RotaVirus2017.csv')\n",
    "df18 = pd.read_csv('C:\\\\Users\\\\Roxton\\\\Desktop\\\\RotaVirus2018.csv')\n",
    "df19 = pd.read_csv('C:\\\\Users\\\\Roxton\\\\Desktop\\\\RotaVirus2019.csv')"
   ]
  },
  {
   "cell_type": "code",
   "execution_count": 112,
   "metadata": {
    "id": "nH_cN9Y6clFo"
   },
   "outputs": [],
   "source": [
    "def assess_NA(data):\n",
    "    \"\"\"\n",
    "    Returns a pandas dataframe denoting the total number of NA values and the percentage of NA values in each column.\n",
    "    The column names are noted on the index.\n",
    "    \n",
    "    Parameters\n",
    "    ----------\n",
    "    data: dataframe\n",
    "    \"\"\"\n",
    "    # pandas series denoting features and the sum of their null values\n",
    "    null_sum = data.isnull().sum()# instantiate columns for missing data\n",
    "    total = null_sum.sort_values(ascending=False)\n",
    "    percent = ( ((null_sum / len(data.index))*100).round(2) ).sort_values(ascending=False)\n",
    "    \n",
    "    # concatenate along the columns to create the complete dataframe\n",
    "    df_NA = pd.concat([total, percent], axis=1, keys=['Number of NA', 'Percent NA'])\n",
    "    \n",
    "    # drop rows that don't have any missing data; omit if you want to keep all rows\n",
    "    df_NA = df_NA[ (df_NA.T != 0).any() ]\n",
    "    \n",
    "    return df_NA"
   ]
  },
  {
   "cell_type": "code",
   "execution_count": 113,
   "metadata": {
    "colab": {
     "base_uri": "https://localhost:8080/",
     "height": 180
    },
    "id": "QlkkFJuddYlE",
    "outputId": "3c51d139-8df9-4a5b-8838-1c9ae7fc680a"
   },
   "outputs": [
    {
     "data": {
      "text/html": [
       "<div>\n",
       "<style scoped>\n",
       "    .dataframe tbody tr th:only-of-type {\n",
       "        vertical-align: middle;\n",
       "    }\n",
       "\n",
       "    .dataframe tbody tr th {\n",
       "        vertical-align: top;\n",
       "    }\n",
       "\n",
       "    .dataframe thead th {\n",
       "        text-align: right;\n",
       "    }\n",
       "</style>\n",
       "<table border=\"1\" class=\"dataframe\">\n",
       "  <thead>\n",
       "    <tr style=\"text-align: right;\">\n",
       "      <th></th>\n",
       "      <th>Number of NA</th>\n",
       "      <th>Percent NA</th>\n",
       "    </tr>\n",
       "  </thead>\n",
       "  <tbody>\n",
       "    <tr>\n",
       "      <td>VILLAGE</td>\n",
       "      <td>24</td>\n",
       "      <td>3.99</td>\n",
       "    </tr>\n",
       "    <tr>\n",
       "      <td>BMI</td>\n",
       "      <td>20</td>\n",
       "      <td>3.33</td>\n",
       "    </tr>\n",
       "    <tr>\n",
       "      <td>NEW DIAGNOSIS</td>\n",
       "      <td>7</td>\n",
       "      <td>1.16</td>\n",
       "    </tr>\n",
       "  </tbody>\n",
       "</table>\n",
       "</div>"
      ],
      "text/plain": [
       "               Number of NA  Percent NA\n",
       "VILLAGE                  24        3.99\n",
       "BMI                      20        3.33\n",
       "NEW DIAGNOSIS             7        1.16"
      ]
     },
     "execution_count": 113,
     "metadata": {},
     "output_type": "execute_result"
    }
   ],
   "source": [
    "df_NA = assess_NA(df17)\n",
    "df_NA"
   ]
  },
  {
   "cell_type": "code",
   "execution_count": 114,
   "metadata": {
    "id": "x32GN20ivGnM"
   },
   "outputs": [
    {
     "data": {
      "text/html": [
       "<div>\n",
       "<style scoped>\n",
       "    .dataframe tbody tr th:only-of-type {\n",
       "        vertical-align: middle;\n",
       "    }\n",
       "\n",
       "    .dataframe tbody tr th {\n",
       "        vertical-align: top;\n",
       "    }\n",
       "\n",
       "    .dataframe thead th {\n",
       "        text-align: right;\n",
       "    }\n",
       "</style>\n",
       "<table border=\"1\" class=\"dataframe\">\n",
       "  <thead>\n",
       "    <tr style=\"text-align: right;\">\n",
       "      <th></th>\n",
       "      <th>Number of NA</th>\n",
       "      <th>Percent NA</th>\n",
       "    </tr>\n",
       "  </thead>\n",
       "  <tbody>\n",
       "    <tr>\n",
       "      <td>VILLAGE</td>\n",
       "      <td>11</td>\n",
       "      <td>4.04</td>\n",
       "    </tr>\n",
       "    <tr>\n",
       "      <td>BMI</td>\n",
       "      <td>7</td>\n",
       "      <td>2.57</td>\n",
       "    </tr>\n",
       "    <tr>\n",
       "      <td>NEW DIAGNOSIS</td>\n",
       "      <td>5</td>\n",
       "      <td>1.84</td>\n",
       "    </tr>\n",
       "    <tr>\n",
       "      <td>NEXT OF KIN</td>\n",
       "      <td>1</td>\n",
       "      <td>0.37</td>\n",
       "    </tr>\n",
       "    <tr>\n",
       "      <td>WEIGHT</td>\n",
       "      <td>1</td>\n",
       "      <td>0.37</td>\n",
       "    </tr>\n",
       "  </tbody>\n",
       "</table>\n",
       "</div>"
      ],
      "text/plain": [
       "               Number of NA  Percent NA\n",
       "VILLAGE                  11        4.04\n",
       "BMI                       7        2.57\n",
       "NEW DIAGNOSIS             5        1.84\n",
       "NEXT OF KIN               1        0.37\n",
       "WEIGHT                    1        0.37"
      ]
     },
     "execution_count": 114,
     "metadata": {},
     "output_type": "execute_result"
    }
   ],
   "source": [
    "df_NA = assess_NA(df18)\n",
    "df_NA"
   ]
  },
  {
   "cell_type": "code",
   "execution_count": 115,
   "metadata": {
    "id": "taAvTT7xvNqC"
   },
   "outputs": [
    {
     "data": {
      "text/html": [
       "<div>\n",
       "<style scoped>\n",
       "    .dataframe tbody tr th:only-of-type {\n",
       "        vertical-align: middle;\n",
       "    }\n",
       "\n",
       "    .dataframe tbody tr th {\n",
       "        vertical-align: top;\n",
       "    }\n",
       "\n",
       "    .dataframe thead th {\n",
       "        text-align: right;\n",
       "    }\n",
       "</style>\n",
       "<table border=\"1\" class=\"dataframe\">\n",
       "  <thead>\n",
       "    <tr style=\"text-align: right;\">\n",
       "      <th></th>\n",
       "      <th>Number of NA</th>\n",
       "      <th>Percent NA</th>\n",
       "    </tr>\n",
       "  </thead>\n",
       "  <tbody>\n",
       "    <tr>\n",
       "      <td>VILLAGE</td>\n",
       "      <td>39</td>\n",
       "      <td>3.73</td>\n",
       "    </tr>\n",
       "    <tr>\n",
       "      <td>BMI</td>\n",
       "      <td>28</td>\n",
       "      <td>2.68</td>\n",
       "    </tr>\n",
       "    <tr>\n",
       "      <td>NEW DIAGNOSIS</td>\n",
       "      <td>18</td>\n",
       "      <td>1.72</td>\n",
       "    </tr>\n",
       "    <tr>\n",
       "      <td>WEIGHT</td>\n",
       "      <td>1</td>\n",
       "      <td>0.10</td>\n",
       "    </tr>\n",
       "  </tbody>\n",
       "</table>\n",
       "</div>"
      ],
      "text/plain": [
       "               Number of NA  Percent NA\n",
       "VILLAGE                  39        3.73\n",
       "BMI                      28        2.68\n",
       "NEW DIAGNOSIS            18        1.72\n",
       "WEIGHT                    1        0.10"
      ]
     },
     "execution_count": 115,
     "metadata": {},
     "output_type": "execute_result"
    }
   ],
   "source": [
    "df_NA = assess_NA(df19)\n",
    "df_NA"
   ]
  },
  {
   "cell_type": "code",
   "execution_count": 116,
   "metadata": {
    "id": "MpG3CcDYesK4"
   },
   "outputs": [
    {
     "data": {
      "text/html": [
       "<div>\n",
       "<style scoped>\n",
       "    .dataframe tbody tr th:only-of-type {\n",
       "        vertical-align: middle;\n",
       "    }\n",
       "\n",
       "    .dataframe tbody tr th {\n",
       "        vertical-align: top;\n",
       "    }\n",
       "\n",
       "    .dataframe thead th {\n",
       "        text-align: right;\n",
       "    }\n",
       "</style>\n",
       "<table border=\"1\" class=\"dataframe\">\n",
       "  <thead>\n",
       "    <tr style=\"text-align: right;\">\n",
       "      <th></th>\n",
       "      <th>PERSON ID</th>\n",
       "      <th>NAME OF PATIENT</th>\n",
       "      <th>VILLAGE</th>\n",
       "      <th>AGE</th>\n",
       "      <th>SEX</th>\n",
       "      <th>WEIGHT</th>\n",
       "      <th>BMI</th>\n",
       "      <th>NEXT OF KIN</th>\n",
       "      <th>NEW DIAGNOSIS</th>\n",
       "    </tr>\n",
       "  </thead>\n",
       "  <tbody>\n",
       "    <tr>\n",
       "      <td>0</td>\n",
       "      <td>10028312</td>\n",
       "      <td>KYOTEGA AISHA</td>\n",
       "      <td>CLEVERLAND</td>\n",
       "      <td>11 months</td>\n",
       "      <td>F</td>\n",
       "      <td>11.3</td>\n",
       "      <td>22.4</td>\n",
       "      <td>NINSHABA PATIENCE</td>\n",
       "      <td>Other respiratory conditions</td>\n",
       "    </tr>\n",
       "    <tr>\n",
       "      <td>1</td>\n",
       "      <td>10037174</td>\n",
       "      <td>LAKICA SHEILLAH</td>\n",
       "      <td>KAMUKUZI</td>\n",
       "      <td>2 years</td>\n",
       "      <td>F</td>\n",
       "      <td>9.0</td>\n",
       "      <td>13.7</td>\n",
       "      <td>AGENO JOYCE</td>\n",
       "      <td>Burns</td>\n",
       "    </tr>\n",
       "    <tr>\n",
       "      <td>2</td>\n",
       "      <td>10002612</td>\n",
       "      <td>Lazaro Kagurusi</td>\n",
       "      <td>Rwombo</td>\n",
       "      <td>4 years</td>\n",
       "      <td>M</td>\n",
       "      <td>17.0</td>\n",
       "      <td>14.8</td>\n",
       "      <td>Kidokori Abel</td>\n",
       "      <td>ALLERGIC COUGH</td>\n",
       "    </tr>\n",
       "    <tr>\n",
       "      <td>3</td>\n",
       "      <td>10037752</td>\n",
       "      <td>LIIBAN MHMED CAYAR</td>\n",
       "      <td>NAKIVALE</td>\n",
       "      <td>4 years</td>\n",
       "      <td>M</td>\n",
       "      <td>12.0</td>\n",
       "      <td>13.9</td>\n",
       "      <td>FARTUUN HASAN</td>\n",
       "      <td>Gastro-Intestinal Disorders (non-Infective)</td>\n",
       "    </tr>\n",
       "    <tr>\n",
       "      <td>4</td>\n",
       "      <td>10036695</td>\n",
       "      <td>LINDA BAIJA ASIIMWE</td>\n",
       "      <td>KEIGOSHORA</td>\n",
       "      <td>5 years</td>\n",
       "      <td>M</td>\n",
       "      <td>20.0</td>\n",
       "      <td>14.6</td>\n",
       "      <td>BAIJA</td>\n",
       "      <td>Fungal skin infection</td>\n",
       "    </tr>\n",
       "    <tr>\n",
       "      <td>...</td>\n",
       "      <td>...</td>\n",
       "      <td>...</td>\n",
       "      <td>...</td>\n",
       "      <td>...</td>\n",
       "      <td>...</td>\n",
       "      <td>...</td>\n",
       "      <td>...</td>\n",
       "      <td>...</td>\n",
       "      <td>...</td>\n",
       "    </tr>\n",
       "    <tr>\n",
       "      <td>595</td>\n",
       "      <td>10033465</td>\n",
       "      <td>YEBARE TESTIMONY</td>\n",
       "      <td>KASHUMBA</td>\n",
       "      <td>6 months</td>\n",
       "      <td>M</td>\n",
       "      <td>8.9</td>\n",
       "      <td>25.6</td>\n",
       "      <td>SCOVIA TUMUHIMBISE</td>\n",
       "      <td>Bacterial conjunctivitis</td>\n",
       "    </tr>\n",
       "    <tr>\n",
       "      <td>596</td>\n",
       "      <td>10037415</td>\n",
       "      <td>ZAKARIA GARAAD ABDINASIR</td>\n",
       "      <td>NAKIVALE</td>\n",
       "      <td>13 years</td>\n",
       "      <td>M</td>\n",
       "      <td>28.0</td>\n",
       "      <td>12.0</td>\n",
       "      <td>FATUMA AHMED MUHAMED</td>\n",
       "      <td>Tonsilitis</td>\n",
       "    </tr>\n",
       "    <tr>\n",
       "      <td>597</td>\n",
       "      <td>10036642</td>\n",
       "      <td>ZEESHAM JUMBA</td>\n",
       "      <td>KISURO</td>\n",
       "      <td>1 year</td>\n",
       "      <td>M</td>\n",
       "      <td>10.7</td>\n",
       "      <td>14.8</td>\n",
       "      <td>OSHABA MERON</td>\n",
       "      <td>INFECTIVE GASTRO ENTERITIS</td>\n",
       "    </tr>\n",
       "    <tr>\n",
       "      <td>598</td>\n",
       "      <td>10037795</td>\n",
       "      <td>ZIMWANGUHIZA BURASIO</td>\n",
       "      <td>KIGUMA</td>\n",
       "      <td>2 years</td>\n",
       "      <td>M</td>\n",
       "      <td>14.9</td>\n",
       "      <td>21.1</td>\n",
       "      <td>NAKAHANGUZI</td>\n",
       "      <td>Allergic Dermatitis</td>\n",
       "    </tr>\n",
       "    <tr>\n",
       "      <td>599</td>\n",
       "      <td>10037418</td>\n",
       "      <td>ZUHUR GARAAD ABDINASIR</td>\n",
       "      <td>NAKIVALE</td>\n",
       "      <td>3 years</td>\n",
       "      <td>F</td>\n",
       "      <td>12.0</td>\n",
       "      <td>12.0</td>\n",
       "      <td>FATUMA AHMED MUHAMED</td>\n",
       "      <td>Other Dermatological conditions</td>\n",
       "    </tr>\n",
       "  </tbody>\n",
       "</table>\n",
       "<p>557 rows × 9 columns</p>\n",
       "</div>"
      ],
      "text/plain": [
       "     PERSON ID           NAME OF PATIENT     VILLAGE        AGE SEX  WEIGHT  \\\n",
       "0     10028312             KYOTEGA AISHA  CLEVERLAND  11 months   F    11.3   \n",
       "1     10037174           LAKICA SHEILLAH    KAMUKUZI    2 years   F     9.0   \n",
       "2     10002612           Lazaro Kagurusi      Rwombo    4 years   M    17.0   \n",
       "3     10037752        LIIBAN MHMED CAYAR    NAKIVALE    4 years   M    12.0   \n",
       "4     10036695       LINDA BAIJA ASIIMWE  KEIGOSHORA    5 years   M    20.0   \n",
       "..         ...                       ...         ...        ...  ..     ...   \n",
       "595   10033465          YEBARE TESTIMONY    KASHUMBA   6 months   M     8.9   \n",
       "596   10037415  ZAKARIA GARAAD ABDINASIR    NAKIVALE   13 years   M    28.0   \n",
       "597   10036642             ZEESHAM JUMBA      KISURO     1 year   M    10.7   \n",
       "598   10037795      ZIMWANGUHIZA BURASIO      KIGUMA    2 years   M    14.9   \n",
       "599   10037418    ZUHUR GARAAD ABDINASIR    NAKIVALE    3 years   F    12.0   \n",
       "\n",
       "      BMI           NEXT OF KIN                                NEW DIAGNOSIS  \n",
       "0    22.4     NINSHABA PATIENCE                 Other respiratory conditions  \n",
       "1    13.7           AGENO JOYCE                                        Burns  \n",
       "2    14.8         Kidokori Abel                               ALLERGIC COUGH  \n",
       "3    13.9         FARTUUN HASAN  Gastro-Intestinal Disorders (non-Infective)  \n",
       "4    14.6                 BAIJA                        Fungal skin infection  \n",
       "..    ...                   ...                                          ...  \n",
       "595  25.6    SCOVIA TUMUHIMBISE                     Bacterial conjunctivitis  \n",
       "596  12.0  FATUMA AHMED MUHAMED                                   Tonsilitis  \n",
       "597  14.8          OSHABA MERON                   INFECTIVE GASTRO ENTERITIS  \n",
       "598  21.1           NAKAHANGUZI                          Allergic Dermatitis  \n",
       "599  12.0  FATUMA AHMED MUHAMED              Other Dermatological conditions  \n",
       "\n",
       "[557 rows x 9 columns]"
      ]
     },
     "execution_count": 116,
     "metadata": {},
     "output_type": "execute_result"
    }
   ],
   "source": [
    "df17.dropna(axis=0)"
   ]
  },
  {
   "cell_type": "code",
   "execution_count": 117,
   "metadata": {
    "id": "MKrC2k6Xeu8v"
   },
   "outputs": [
    {
     "data": {
      "text/html": [
       "<div>\n",
       "<style scoped>\n",
       "    .dataframe tbody tr th:only-of-type {\n",
       "        vertical-align: middle;\n",
       "    }\n",
       "\n",
       "    .dataframe tbody tr th {\n",
       "        vertical-align: top;\n",
       "    }\n",
       "\n",
       "    .dataframe thead th {\n",
       "        text-align: right;\n",
       "    }\n",
       "</style>\n",
       "<table border=\"1\" class=\"dataframe\">\n",
       "  <thead>\n",
       "    <tr style=\"text-align: right;\">\n",
       "      <th></th>\n",
       "      <th>PERSON ID</th>\n",
       "      <th>NAME OF PATIENT</th>\n",
       "      <th>VILLAGE</th>\n",
       "      <th>AGE</th>\n",
       "      <th>SEX</th>\n",
       "      <th>WEIGHT</th>\n",
       "      <th>BMI</th>\n",
       "      <th>NEXT OF KIN</th>\n",
       "      <th>NEW DIAGNOSIS</th>\n",
       "    </tr>\n",
       "  </thead>\n",
       "  <tbody>\n",
       "    <tr>\n",
       "      <td>0</td>\n",
       "      <td>10037496</td>\n",
       "      <td>AHEREZA VANESSA</td>\n",
       "      <td>ANDREWS</td>\n",
       "      <td>6 months</td>\n",
       "      <td>F</td>\n",
       "      <td>6.9</td>\n",
       "      <td>16.3</td>\n",
       "      <td>NAHWERA JUDITH</td>\n",
       "      <td>RVI</td>\n",
       "    </tr>\n",
       "    <tr>\n",
       "      <td>1</td>\n",
       "      <td>10037637</td>\n",
       "      <td>AIJUKA CHRISPUS</td>\n",
       "      <td>RUFUNJO</td>\n",
       "      <td>9 years</td>\n",
       "      <td>M</td>\n",
       "      <td>29.0</td>\n",
       "      <td>14.4</td>\n",
       "      <td>ARINAITWE PRIMA</td>\n",
       "      <td>RVI</td>\n",
       "    </tr>\n",
       "    <tr>\n",
       "      <td>2</td>\n",
       "      <td>10022156</td>\n",
       "      <td>AKORAGYE NATASHA</td>\n",
       "      <td>BUBAREBWERA</td>\n",
       "      <td>2 years</td>\n",
       "      <td>F</td>\n",
       "      <td>11.0</td>\n",
       "      <td>16.4</td>\n",
       "      <td>AMPUMUZA PERUTH</td>\n",
       "      <td>Bacterial upper respiratory tract infection</td>\n",
       "    </tr>\n",
       "    <tr>\n",
       "      <td>3</td>\n",
       "      <td>10036924</td>\n",
       "      <td>AKORAGYE MIRACLE</td>\n",
       "      <td>NYAMITWOBORA</td>\n",
       "      <td>13 years</td>\n",
       "      <td>M</td>\n",
       "      <td>35.0</td>\n",
       "      <td>13.3</td>\n",
       "      <td>TUMWEBAZE HARRIET</td>\n",
       "      <td>Gastro-Intestinal Disorders (non-Infective)</td>\n",
       "    </tr>\n",
       "    <tr>\n",
       "      <td>4</td>\n",
       "      <td>10037042</td>\n",
       "      <td>AKORAGYE IVAN</td>\n",
       "      <td>ANDREWS</td>\n",
       "      <td>7 months</td>\n",
       "      <td>M</td>\n",
       "      <td>10.0</td>\n",
       "      <td>16.0</td>\n",
       "      <td>NUWAMANYA SHALON</td>\n",
       "      <td>RVI</td>\n",
       "    </tr>\n",
       "    <tr>\n",
       "      <td>...</td>\n",
       "      <td>...</td>\n",
       "      <td>...</td>\n",
       "      <td>...</td>\n",
       "      <td>...</td>\n",
       "      <td>...</td>\n",
       "      <td>...</td>\n",
       "      <td>...</td>\n",
       "      <td>...</td>\n",
       "      <td>...</td>\n",
       "    </tr>\n",
       "    <tr>\n",
       "      <td>264</td>\n",
       "      <td>10036433</td>\n",
       "      <td>ASINGWIRE JOPHIEL KYEREREZI</td>\n",
       "      <td>KAKYEKA</td>\n",
       "      <td>5 months</td>\n",
       "      <td>M</td>\n",
       "      <td>6.0</td>\n",
       "      <td>17.2</td>\n",
       "      <td>ATUHAMYA PATIENCE</td>\n",
       "      <td>Iron deficiency Anemia</td>\n",
       "    </tr>\n",
       "    <tr>\n",
       "      <td>265</td>\n",
       "      <td>10000892</td>\n",
       "      <td>Ataho Cathbert Akibaho</td>\n",
       "      <td>Nkonkonjeru</td>\n",
       "      <td>3 years</td>\n",
       "      <td>M</td>\n",
       "      <td>16.0</td>\n",
       "      <td>14.8</td>\n",
       "      <td>Ataho Collins</td>\n",
       "      <td>Reactive airway disease (RAD)</td>\n",
       "    </tr>\n",
       "    <tr>\n",
       "      <td>267</td>\n",
       "      <td>10036871</td>\n",
       "      <td>ATAMBA LUCAS. EARL.</td>\n",
       "      <td>NSIIKYE</td>\n",
       "      <td>4 months</td>\n",
       "      <td>M</td>\n",
       "      <td>6.4</td>\n",
       "      <td>19.0</td>\n",
       "      <td>NAHABWE PHIONAH</td>\n",
       "      <td>Viral Respiratory Tract Infection (ARI)</td>\n",
       "    </tr>\n",
       "    <tr>\n",
       "      <td>268</td>\n",
       "      <td>10037233</td>\n",
       "      <td>ATAMBA JOSHUA</td>\n",
       "      <td>KASHENYI</td>\n",
       "      <td>3 months</td>\n",
       "      <td>M</td>\n",
       "      <td>6.1</td>\n",
       "      <td>17.5</td>\n",
       "      <td>KAKONGI ANNET</td>\n",
       "      <td>VIRAL GASRTRO ENTERITIS</td>\n",
       "    </tr>\n",
       "    <tr>\n",
       "      <td>271</td>\n",
       "      <td>10018861</td>\n",
       "      <td>ATANGAZA ELENA</td>\n",
       "      <td>NSIKYE</td>\n",
       "      <td>2 years</td>\n",
       "      <td>F</td>\n",
       "      <td>10.0</td>\n",
       "      <td>12.6</td>\n",
       "      <td>TUSHABE HELLEN</td>\n",
       "      <td>RVI</td>\n",
       "    </tr>\n",
       "  </tbody>\n",
       "</table>\n",
       "<p>251 rows × 9 columns</p>\n",
       "</div>"
      ],
      "text/plain": [
       "     PERSON ID              NAME OF PATIENT       VILLAGE       AGE SEX  \\\n",
       "0     10037496              AHEREZA VANESSA       ANDREWS  6 months   F   \n",
       "1     10037637              AIJUKA CHRISPUS       RUFUNJO   9 years   M   \n",
       "2     10022156             AKORAGYE NATASHA   BUBAREBWERA   2 years   F   \n",
       "3     10036924             AKORAGYE MIRACLE  NYAMITWOBORA  13 years   M   \n",
       "4     10037042                AKORAGYE IVAN       ANDREWS  7 months   M   \n",
       "..         ...                          ...           ...       ...  ..   \n",
       "264   10036433  ASINGWIRE JOPHIEL KYEREREZI       KAKYEKA  5 months   M   \n",
       "265   10000892       Ataho Cathbert Akibaho   Nkonkonjeru   3 years   M   \n",
       "267   10036871          ATAMBA LUCAS. EARL.       NSIIKYE  4 months   M   \n",
       "268   10037233                ATAMBA JOSHUA      KASHENYI  3 months   M   \n",
       "271   10018861               ATANGAZA ELENA        NSIKYE   2 years   F   \n",
       "\n",
       "     WEIGHT   BMI        NEXT OF KIN  \\\n",
       "0       6.9  16.3     NAHWERA JUDITH   \n",
       "1      29.0  14.4    ARINAITWE PRIMA   \n",
       "2      11.0  16.4    AMPUMUZA PERUTH   \n",
       "3      35.0  13.3  TUMWEBAZE HARRIET   \n",
       "4      10.0  16.0   NUWAMANYA SHALON   \n",
       "..      ...   ...                ...   \n",
       "264     6.0  17.2  ATUHAMYA PATIENCE   \n",
       "265    16.0  14.8      Ataho Collins   \n",
       "267     6.4  19.0    NAHABWE PHIONAH   \n",
       "268     6.1  17.5      KAKONGI ANNET   \n",
       "271    10.0  12.6     TUSHABE HELLEN   \n",
       "\n",
       "                                   NEW DIAGNOSIS  \n",
       "0                                            RVI  \n",
       "1                                            RVI  \n",
       "2    Bacterial upper respiratory tract infection  \n",
       "3    Gastro-Intestinal Disorders (non-Infective)  \n",
       "4                                            RVI  \n",
       "..                                           ...  \n",
       "264                       Iron deficiency Anemia  \n",
       "265                Reactive airway disease (RAD)  \n",
       "267      Viral Respiratory Tract Infection (ARI)  \n",
       "268                      VIRAL GASRTRO ENTERITIS  \n",
       "271                                          RVI  \n",
       "\n",
       "[251 rows x 9 columns]"
      ]
     },
     "execution_count": 117,
     "metadata": {},
     "output_type": "execute_result"
    }
   ],
   "source": [
    "df18.dropna(axis=0)"
   ]
  },
  {
   "cell_type": "code",
   "execution_count": 118,
   "metadata": {
    "id": "9Ox7PBkNvuMb"
   },
   "outputs": [
    {
     "data": {
      "text/html": [
       "<div>\n",
       "<style scoped>\n",
       "    .dataframe tbody tr th:only-of-type {\n",
       "        vertical-align: middle;\n",
       "    }\n",
       "\n",
       "    .dataframe tbody tr th {\n",
       "        vertical-align: top;\n",
       "    }\n",
       "\n",
       "    .dataframe thead th {\n",
       "        text-align: right;\n",
       "    }\n",
       "</style>\n",
       "<table border=\"1\" class=\"dataframe\">\n",
       "  <thead>\n",
       "    <tr style=\"text-align: right;\">\n",
       "      <th></th>\n",
       "      <th>PERSON ID</th>\n",
       "      <th>NAME OF PATIENT</th>\n",
       "      <th>VILLAGE</th>\n",
       "      <th>AGE</th>\n",
       "      <th>SEX</th>\n",
       "      <th>WEIGHT</th>\n",
       "      <th>BMI</th>\n",
       "      <th>NEXT OF KIN</th>\n",
       "      <th>NEW DIAGNOSIS</th>\n",
       "    </tr>\n",
       "  </thead>\n",
       "  <tbody>\n",
       "    <tr>\n",
       "      <td>0</td>\n",
       "      <td>10035606</td>\n",
       "      <td>NABUNYA ARIANA</td>\n",
       "      <td>LUGAZI</td>\n",
       "      <td>3 months</td>\n",
       "      <td>f</td>\n",
       "      <td>7.0</td>\n",
       "      <td>16.6</td>\n",
       "      <td>NAKANJAKO AISHA</td>\n",
       "      <td>Allergic conjunctivitis</td>\n",
       "    </tr>\n",
       "    <tr>\n",
       "      <td>1</td>\n",
       "      <td>10017292</td>\n",
       "      <td>ABAHO MICHEAL</td>\n",
       "      <td>ALLIANCE</td>\n",
       "      <td>2 years</td>\n",
       "      <td>m</td>\n",
       "      <td>11.0</td>\n",
       "      <td>13.3</td>\n",
       "      <td>KYARIKUNDA PAMELLAH</td>\n",
       "      <td>Viral Respiratory Tract Infection (ARI)</td>\n",
       "    </tr>\n",
       "    <tr>\n",
       "      <td>2</td>\n",
       "      <td>10036666</td>\n",
       "      <td>ABDIRAHMAN SAID</td>\n",
       "      <td>NAKIVALE CAMP</td>\n",
       "      <td>2 years</td>\n",
       "      <td>m</td>\n",
       "      <td>18.0</td>\n",
       "      <td>11.3</td>\n",
       "      <td>OMARU ADAM</td>\n",
       "      <td>Allergic rhinitis</td>\n",
       "    </tr>\n",
       "    <tr>\n",
       "      <td>3</td>\n",
       "      <td>10024919</td>\n",
       "      <td>AGARUKAMU POLITE</td>\n",
       "      <td>NYAKINOMBE</td>\n",
       "      <td>4 years</td>\n",
       "      <td>m</td>\n",
       "      <td>21.0</td>\n",
       "      <td>15.3</td>\n",
       "      <td>OKWAKUNDA LILIAN</td>\n",
       "      <td>Allergic rhinitis</td>\n",
       "    </tr>\n",
       "    <tr>\n",
       "      <td>4</td>\n",
       "      <td>10037403</td>\n",
       "      <td>ARINANYE JOEL</td>\n",
       "      <td>NYAKYERA</td>\n",
       "      <td>12 months</td>\n",
       "      <td>m</td>\n",
       "      <td>8.1</td>\n",
       "      <td>14.0</td>\n",
       "      <td>TWIKYIRIZE DIVION</td>\n",
       "      <td>viral systemic Infection</td>\n",
       "    </tr>\n",
       "    <tr>\n",
       "      <td>...</td>\n",
       "      <td>...</td>\n",
       "      <td>...</td>\n",
       "      <td>...</td>\n",
       "      <td>...</td>\n",
       "      <td>...</td>\n",
       "      <td>...</td>\n",
       "      <td>...</td>\n",
       "      <td>...</td>\n",
       "      <td>...</td>\n",
       "    </tr>\n",
       "    <tr>\n",
       "      <td>1039</td>\n",
       "      <td>10033465</td>\n",
       "      <td>YEBARE TESTIMONY</td>\n",
       "      <td>KASHUMBA</td>\n",
       "      <td>6 months</td>\n",
       "      <td>m</td>\n",
       "      <td>8.9</td>\n",
       "      <td>25.6</td>\n",
       "      <td>SCOVIA TUMUHIMBISE</td>\n",
       "      <td>Bacterial conjunctivitis</td>\n",
       "    </tr>\n",
       "    <tr>\n",
       "      <td>1040</td>\n",
       "      <td>10037415</td>\n",
       "      <td>ZAKARIA GARAAD ABDINASIR</td>\n",
       "      <td>NAKIVALE</td>\n",
       "      <td>13 years</td>\n",
       "      <td>m</td>\n",
       "      <td>28.0</td>\n",
       "      <td>12.0</td>\n",
       "      <td>FATUMA AHMED MUHAMED</td>\n",
       "      <td>Tonsilitis</td>\n",
       "    </tr>\n",
       "    <tr>\n",
       "      <td>1041</td>\n",
       "      <td>10036642</td>\n",
       "      <td>ZEESHAM JUMBA</td>\n",
       "      <td>KISURO</td>\n",
       "      <td>1 year</td>\n",
       "      <td>m</td>\n",
       "      <td>10.7</td>\n",
       "      <td>14.8</td>\n",
       "      <td>OSHABA MERON</td>\n",
       "      <td>INFECTIVE GASTRO ENTERITIS</td>\n",
       "    </tr>\n",
       "    <tr>\n",
       "      <td>1042</td>\n",
       "      <td>10037795</td>\n",
       "      <td>ZIMWANGUHIZA BURASIO</td>\n",
       "      <td>KIGUMA</td>\n",
       "      <td>2 years</td>\n",
       "      <td>m</td>\n",
       "      <td>14.9</td>\n",
       "      <td>21.1</td>\n",
       "      <td>NAKAHANGUZI</td>\n",
       "      <td>Allergic Dermatitis</td>\n",
       "    </tr>\n",
       "    <tr>\n",
       "      <td>1043</td>\n",
       "      <td>10037418</td>\n",
       "      <td>ZUHUR GARAAD ABDINASIR</td>\n",
       "      <td>NAKIVALE</td>\n",
       "      <td>3 years</td>\n",
       "      <td>f</td>\n",
       "      <td>12.0</td>\n",
       "      <td>12.0</td>\n",
       "      <td>FATUMA AHMED MUHAMED</td>\n",
       "      <td>Other Dermatological conditions</td>\n",
       "    </tr>\n",
       "  </tbody>\n",
       "</table>\n",
       "<p>974 rows × 9 columns</p>\n",
       "</div>"
      ],
      "text/plain": [
       "      PERSON ID           NAME OF PATIENT        VILLAGE        AGE SEX  \\\n",
       "0      10035606            NABUNYA ARIANA         LUGAZI   3 months   f   \n",
       "1      10017292             ABAHO MICHEAL       ALLIANCE    2 years   m   \n",
       "2      10036666           ABDIRAHMAN SAID  NAKIVALE CAMP    2 years   m   \n",
       "3      10024919          AGARUKAMU POLITE     NYAKINOMBE    4 years   m   \n",
       "4      10037403             ARINANYE JOEL       NYAKYERA  12 months   m   \n",
       "...         ...                       ...            ...        ...  ..   \n",
       "1039   10033465          YEBARE TESTIMONY       KASHUMBA   6 months   m   \n",
       "1040   10037415  ZAKARIA GARAAD ABDINASIR       NAKIVALE   13 years   m   \n",
       "1041   10036642             ZEESHAM JUMBA         KISURO     1 year   m   \n",
       "1042   10037795      ZIMWANGUHIZA BURASIO         KIGUMA    2 years   m   \n",
       "1043   10037418    ZUHUR GARAAD ABDINASIR       NAKIVALE    3 years   f   \n",
       "\n",
       "      WEIGHT   BMI           NEXT OF KIN  \\\n",
       "0        7.0  16.6       NAKANJAKO AISHA   \n",
       "1       11.0  13.3   KYARIKUNDA PAMELLAH   \n",
       "2       18.0  11.3            OMARU ADAM   \n",
       "3       21.0  15.3      OKWAKUNDA LILIAN   \n",
       "4        8.1  14.0     TWIKYIRIZE DIVION   \n",
       "...      ...   ...                   ...   \n",
       "1039     8.9  25.6    SCOVIA TUMUHIMBISE   \n",
       "1040    28.0  12.0  FATUMA AHMED MUHAMED   \n",
       "1041    10.7  14.8          OSHABA MERON   \n",
       "1042    14.9  21.1           NAKAHANGUZI   \n",
       "1043    12.0  12.0  FATUMA AHMED MUHAMED   \n",
       "\n",
       "                                NEW DIAGNOSIS  \n",
       "0                     Allergic conjunctivitis  \n",
       "1     Viral Respiratory Tract Infection (ARI)  \n",
       "2                           Allergic rhinitis  \n",
       "3                           Allergic rhinitis  \n",
       "4                    viral systemic Infection  \n",
       "...                                       ...  \n",
       "1039                 Bacterial conjunctivitis  \n",
       "1040                               Tonsilitis  \n",
       "1041               INFECTIVE GASTRO ENTERITIS  \n",
       "1042                      Allergic Dermatitis  \n",
       "1043          Other Dermatological conditions  \n",
       "\n",
       "[974 rows x 9 columns]"
      ]
     },
     "execution_count": 118,
     "metadata": {},
     "output_type": "execute_result"
    }
   ],
   "source": [
    "df19.dropna(axis=0)"
   ]
  },
  {
   "cell_type": "code",
   "execution_count": 119,
   "metadata": {
    "id": "8LnmpMLMvyqQ"
   },
   "outputs": [],
   "source": [
    "train = pd.read_csv('C:\\\\Users\\\\Roxton\\\\Desktop\\\\RotaVirus1.csv')\n",
    "test = pd.read_csv('C:\\\\Users\\\\Roxton\\\\Desktop\\\\RotaVirus2.csv')"
   ]
  },
  {
   "cell_type": "code",
   "execution_count": 120,
   "metadata": {
    "id": "es08R9bo4FoB"
   },
   "outputs": [
    {
     "data": {
      "text/html": [
       "<div>\n",
       "<style scoped>\n",
       "    .dataframe tbody tr th:only-of-type {\n",
       "        vertical-align: middle;\n",
       "    }\n",
       "\n",
       "    .dataframe tbody tr th {\n",
       "        vertical-align: top;\n",
       "    }\n",
       "\n",
       "    .dataframe thead th {\n",
       "        text-align: right;\n",
       "    }\n",
       "</style>\n",
       "<table border=\"1\" class=\"dataframe\">\n",
       "  <thead>\n",
       "    <tr style=\"text-align: right;\">\n",
       "      <th></th>\n",
       "      <th>Month</th>\n",
       "      <th>Reported Cases</th>\n",
       "      <th>Season</th>\n",
       "      <th>Death Case</th>\n",
       "    </tr>\n",
       "  </thead>\n",
       "  <tbody>\n",
       "    <tr>\n",
       "      <td>0</td>\n",
       "      <td>January</td>\n",
       "      <td>4.0</td>\n",
       "      <td>Dry</td>\n",
       "      <td>0.0</td>\n",
       "    </tr>\n",
       "    <tr>\n",
       "      <td>1</td>\n",
       "      <td>February</td>\n",
       "      <td>5.0</td>\n",
       "      <td>Dry</td>\n",
       "      <td>0.0</td>\n",
       "    </tr>\n",
       "    <tr>\n",
       "      <td>2</td>\n",
       "      <td>March</td>\n",
       "      <td>10.0</td>\n",
       "      <td>Wet</td>\n",
       "      <td>1.0</td>\n",
       "    </tr>\n",
       "    <tr>\n",
       "      <td>3</td>\n",
       "      <td>April</td>\n",
       "      <td>8.0</td>\n",
       "      <td>Wet</td>\n",
       "      <td>0.0</td>\n",
       "    </tr>\n",
       "    <tr>\n",
       "      <td>4</td>\n",
       "      <td>May</td>\n",
       "      <td>16.0</td>\n",
       "      <td>Wet</td>\n",
       "      <td>0.0</td>\n",
       "    </tr>\n",
       "    <tr>\n",
       "      <td>5</td>\n",
       "      <td>June</td>\n",
       "      <td>6.0</td>\n",
       "      <td>Dry</td>\n",
       "      <td>1.0</td>\n",
       "    </tr>\n",
       "    <tr>\n",
       "      <td>6</td>\n",
       "      <td>July</td>\n",
       "      <td>4.0</td>\n",
       "      <td>Dry</td>\n",
       "      <td>2.0</td>\n",
       "    </tr>\n",
       "    <tr>\n",
       "      <td>7</td>\n",
       "      <td>August</td>\n",
       "      <td>6.0</td>\n",
       "      <td>Dry</td>\n",
       "      <td>0.0</td>\n",
       "    </tr>\n",
       "    <tr>\n",
       "      <td>8</td>\n",
       "      <td>September</td>\n",
       "      <td>9.0</td>\n",
       "      <td>Wet</td>\n",
       "      <td>0.0</td>\n",
       "    </tr>\n",
       "    <tr>\n",
       "      <td>9</td>\n",
       "      <td>October</td>\n",
       "      <td>13.0</td>\n",
       "      <td>Wet</td>\n",
       "      <td>1.0</td>\n",
       "    </tr>\n",
       "    <tr>\n",
       "      <td>10</td>\n",
       "      <td>November</td>\n",
       "      <td>10.0</td>\n",
       "      <td>Wet</td>\n",
       "      <td>0.0</td>\n",
       "    </tr>\n",
       "    <tr>\n",
       "      <td>11</td>\n",
       "      <td>December</td>\n",
       "      <td>15.0</td>\n",
       "      <td>Wet</td>\n",
       "      <td>2.0</td>\n",
       "    </tr>\n",
       "  </tbody>\n",
       "</table>\n",
       "</div>"
      ],
      "text/plain": [
       "        Month  Reported Cases Season  Death Case\n",
       "0     January             4.0    Dry         0.0\n",
       "1    February             5.0    Dry         0.0\n",
       "2       March            10.0    Wet         1.0\n",
       "3       April             8.0    Wet         0.0\n",
       "4         May            16.0    Wet         0.0\n",
       "5        June             6.0    Dry         1.0\n",
       "6        July             4.0    Dry         2.0\n",
       "7      August             6.0    Dry         0.0\n",
       "8   September             9.0    Wet         0.0\n",
       "9     October            13.0    Wet         1.0\n",
       "10   November            10.0    Wet         0.0\n",
       "11   December            15.0    Wet         2.0"
      ]
     },
     "execution_count": 120,
     "metadata": {},
     "output_type": "execute_result"
    }
   ],
   "source": [
    "train.dropna()"
   ]
  },
  {
   "cell_type": "code",
   "execution_count": 121,
   "metadata": {
    "id": "MXwCf63U4WRW"
   },
   "outputs": [
    {
     "data": {
      "text/html": [
       "<div>\n",
       "<style scoped>\n",
       "    .dataframe tbody tr th:only-of-type {\n",
       "        vertical-align: middle;\n",
       "    }\n",
       "\n",
       "    .dataframe tbody tr th {\n",
       "        vertical-align: top;\n",
       "    }\n",
       "\n",
       "    .dataframe thead th {\n",
       "        text-align: right;\n",
       "    }\n",
       "</style>\n",
       "<table border=\"1\" class=\"dataframe\">\n",
       "  <thead>\n",
       "    <tr style=\"text-align: right;\">\n",
       "      <th></th>\n",
       "      <th>Month</th>\n",
       "      <th>Reported Cases</th>\n",
       "      <th>Season</th>\n",
       "      <th>Death Cases</th>\n",
       "    </tr>\n",
       "  </thead>\n",
       "  <tbody>\n",
       "    <tr>\n",
       "      <td>0</td>\n",
       "      <td>January</td>\n",
       "      <td>8.0</td>\n",
       "      <td>Dry</td>\n",
       "      <td>0.0</td>\n",
       "    </tr>\n",
       "    <tr>\n",
       "      <td>1</td>\n",
       "      <td>February</td>\n",
       "      <td>7.0</td>\n",
       "      <td>Dry</td>\n",
       "      <td>0.0</td>\n",
       "    </tr>\n",
       "    <tr>\n",
       "      <td>2</td>\n",
       "      <td>March</td>\n",
       "      <td>15.0</td>\n",
       "      <td>Wet</td>\n",
       "      <td>0.0</td>\n",
       "    </tr>\n",
       "    <tr>\n",
       "      <td>3</td>\n",
       "      <td>April</td>\n",
       "      <td>11.0</td>\n",
       "      <td>Wet</td>\n",
       "      <td>2.0</td>\n",
       "    </tr>\n",
       "    <tr>\n",
       "      <td>4</td>\n",
       "      <td>May</td>\n",
       "      <td>17.0</td>\n",
       "      <td>Wet</td>\n",
       "      <td>1.0</td>\n",
       "    </tr>\n",
       "    <tr>\n",
       "      <td>5</td>\n",
       "      <td>June</td>\n",
       "      <td>7.0</td>\n",
       "      <td>Dry</td>\n",
       "      <td>0.0</td>\n",
       "    </tr>\n",
       "    <tr>\n",
       "      <td>6</td>\n",
       "      <td>July</td>\n",
       "      <td>8.0</td>\n",
       "      <td>Dry</td>\n",
       "      <td>0.0</td>\n",
       "    </tr>\n",
       "    <tr>\n",
       "      <td>7</td>\n",
       "      <td>August</td>\n",
       "      <td>8.0</td>\n",
       "      <td>Dry</td>\n",
       "      <td>1.0</td>\n",
       "    </tr>\n",
       "    <tr>\n",
       "      <td>8</td>\n",
       "      <td>September</td>\n",
       "      <td>13.0</td>\n",
       "      <td>Wet</td>\n",
       "      <td>0.0</td>\n",
       "    </tr>\n",
       "    <tr>\n",
       "      <td>9</td>\n",
       "      <td>October</td>\n",
       "      <td>15.0</td>\n",
       "      <td>Wet</td>\n",
       "      <td>2.0</td>\n",
       "    </tr>\n",
       "    <tr>\n",
       "      <td>10</td>\n",
       "      <td>November</td>\n",
       "      <td>10.0</td>\n",
       "      <td>Wet</td>\n",
       "      <td>0.0</td>\n",
       "    </tr>\n",
       "    <tr>\n",
       "      <td>11</td>\n",
       "      <td>December</td>\n",
       "      <td>15.0</td>\n",
       "      <td>Wet</td>\n",
       "      <td>4.0</td>\n",
       "    </tr>\n",
       "  </tbody>\n",
       "</table>\n",
       "</div>"
      ],
      "text/plain": [
       "        Month  Reported Cases Season  Death Cases\n",
       "0     January             8.0    Dry          0.0\n",
       "1    February             7.0    Dry          0.0\n",
       "2       March            15.0    Wet          0.0\n",
       "3       April            11.0    Wet          2.0\n",
       "4         May            17.0    Wet          1.0\n",
       "5        June             7.0    Dry          0.0\n",
       "6        July             8.0    Dry          0.0\n",
       "7      August             8.0    Dry          1.0\n",
       "8   September            13.0    Wet          0.0\n",
       "9     October            15.0    Wet          2.0\n",
       "10   November            10.0    Wet          0.0\n",
       "11   December            15.0    Wet          4.0"
      ]
     },
     "execution_count": 121,
     "metadata": {},
     "output_type": "execute_result"
    }
   ],
   "source": [
    "test.dropna()"
   ]
  },
  {
   "cell_type": "code",
   "execution_count": 122,
   "metadata": {
    "id": "o5YJhB3XDLmA"
   },
   "outputs": [
    {
     "data": {
      "text/plain": [
       "Text(0, 0.5, 'Death Cases')"
      ]
     },
     "execution_count": 122,
     "metadata": {},
     "output_type": "execute_result"
    },
    {
     "data": {
      "image/png": "[encoded data removed]",
      "text/plain": [
       "<Figure size 432x288 with 1 Axes>"
      ]
     },
     "metadata": {
      "needs_background": "light"
     },
     "output_type": "display_data"
    }
   ],
   "source": [
    "fig, ax = plt.subplots()\n",
    "\n",
    "# scatter the sepal_length against the sepal_width\n",
    "ax.scatter(test['Reported Cases'], test['Death Cases'])\n",
    "# set a title and labels\n",
    "ax.set_title('A Scatter Graph for RotaVirus Cases in 2019')\n",
    "ax.set_xlabel('Reported Cases')\n",
    "ax.set_ylabel('Death Cases')"
   ]
  },
  {
   "cell_type": "code",
   "execution_count": 123,
   "metadata": {
    "id": "9Lg7a5BOfHM0"
   },
   "outputs": [
    {
     "data": {
      "text/plain": [
       "Text(0, 0.5, 'Death Cases')"
      ]
     },
     "execution_count": 123,
     "metadata": {},
     "output_type": "execute_result"
    },
    {
     "data": {
      "image/png": "[encoded data removed]",
      "text/plain": [
       "<Figure size 432x288 with 1 Axes>"
      ]
     },
     "metadata": {
      "needs_background": "light"
     },
     "output_type": "display_data"
    }
   ],
   "source": [
    "fig, ax = plt.subplots()\n",
    "\n",
    "# scatter the sepal_length against the sepal_width\n",
    "ax.scatter(train['Reported Cases'], train['Death Case'])\n",
    "# set a title and labels\n",
    "ax.set_title('A Scatter Graph for RotaVirus Cases in 2018')\n",
    "ax.set_xlabel('Reported Cases')\n",
    "ax.set_ylabel('Death Cases')"
   ]
  },
  {
   "cell_type": "code",
   "execution_count": 124,
   "metadata": {
    "id": "JJj8QE7mhnse"
   },
   "outputs": [
    {
     "data": {
      "text/plain": [
       "Text(0, 0.5, 'Months')"
      ]
     },
     "execution_count": 124,
     "metadata": {},
     "output_type": "execute_result"
    },
    {
     "data": {
      "image/png": "[encoded data removed]",
      "text/plain": [
       "<Figure size 432x288 with 1 Axes>"
      ]
     },
     "metadata": {
      "needs_background": "light"
     },
     "output_type": "display_data"
    }
   ],
   "source": [
    "fig, ax = plt.subplots()\n",
    "# plot histogram\n",
    "ax.hist(train['Reported Cases'])\n",
    "# set title and labels\n",
    "ax.set_title('A Bar Graph for RotaVirus Cases in 2018')\n",
    "ax.set_xlabel('Cases')\n",
    "ax.set_ylabel('Months')"
   ]
  },
  {
   "cell_type": "markdown",
   "metadata": {
    "id": "Y_6jNnfukhaj"
   },
   "source": [
    "sns.countplot(x='season',data=data)"
   ]
  },
  {
   "cell_type": "code",
   "execution_count": 125,
   "metadata": {},
   "outputs": [
    {
     "data": {
      "text/plain": [
       "Text(0.5, 1.0, 'count of cases per season')"
      ]
     },
     "execution_count": 125,
     "metadata": {},
     "output_type": "execute_result"
    },
    {
     "data": {
      "image/png": "[encoded data removed]",
      "text/plain": [
       "<Figure size 432x288 with 1 Axes>"
      ]
     },
     "metadata": {
      "needs_background": "light"
     },
     "output_type": "display_data"
    }
   ],
   "source": [
    "sns.countplot(x='Season',data=train)\n",
    "plt.title('count of cases per season')"
   ]
  },
  {
   "cell_type": "code",
   "execution_count": 126,
   "metadata": {},
   "outputs": [
    {
     "data": {
      "text/plain": [
       "count    12.000000\n",
       "mean      8.833333\n",
       "std       4.130449\n",
       "min       4.000000\n",
       "25%       5.750000\n",
       "50%       8.500000\n",
       "75%      10.750000\n",
       "max      16.000000\n",
       "Name: Reported Cases, dtype: float64"
      ]
     },
     "execution_count": 126,
     "metadata": {},
     "output_type": "execute_result"
    }
   ],
   "source": [
    "#statistics of reported cases \n",
    "st=train['Reported Cases'].describe()\n",
    "st"
   ]
  },
  {
   "cell_type": "code",
   "execution_count": 127,
   "metadata": {},
   "outputs": [
    {
     "data": {
      "text/plain": [
       "count    12.000000\n",
       "mean      0.583333\n",
       "std       0.792961\n",
       "min       0.000000\n",
       "25%       0.000000\n",
       "50%       0.000000\n",
       "75%       1.000000\n",
       "max       2.000000\n",
       "Name: Death Case, dtype: float64"
      ]
     },
     "execution_count": 127,
     "metadata": {},
     "output_type": "execute_result"
    }
   ],
   "source": [
    "#statistics of death cases \n",
    "st=train['Death Case'].describe()\n",
    "st"
   ]
  },
  {
   "cell_type": "code",
   "execution_count": 128,
   "metadata": {},
   "outputs": [
    {
     "data": {
      "text/plain": [
       "Text(0.5, 1.0, 'violin plot of death cases against reported cases')"
      ]
     },
     "execution_count": 128,
     "metadata": {},
     "output_type": "execute_result"
    },
    {
     "data": {
      "image/png": "[encoded data removed]",
      "text/plain": [
       "<Figure size 432x288 with 1 Axes>"
      ]
     },
     "metadata": {
      "needs_background": "light"
     },
     "output_type": "display_data"
    }
   ],
   "source": [
    "#violin plots death cases against reported cases\n",
    "#plt.subplot(2,4,4)\n",
    "sns.violinplot(y= 'Reported Cases', x='Death Case', data = train)\n",
    "plt.title('violin plot of death cases against reported cases')"
   ]
  },
  {
   "cell_type": "code",
   "execution_count": 129,
   "metadata": {},
   "outputs": [
    {
     "data": {
      "text/plain": [
       "Text(0.5, 1, 'data correllations of 2017 data')"
      ]
     },
     "execution_count": 129,
     "metadata": {},
     "output_type": "execute_result"
    },
    {
     "data": {
      "image/png": "[encoded data removed]",
      "text/plain": [
       "<Figure size 936x576 with 2 Axes>"
      ]
     },
     "metadata": {
      "needs_background": "light"
     },
     "output_type": "display_data"
    }
   ],
   "source": [
    "#heatmap of data correllations\n",
    "plt.figure(figsize=(13,8))\n",
    "c=df17.corr()\n",
    "sns.set_style(\"whitegrid\");\n",
    "sns.heatmap(c,cmap='BrBG',annot=True)\n",
    "plt.title('data correllations of 2017 data')"
   ]
  },
  {
   "cell_type": "code",
   "execution_count": 130,
   "metadata": {},
   "outputs": [
    {
     "data": {
      "text/plain": [
       "Text(0.5, 1, 'data correllations of 2018 data')"
      ]
     },
     "execution_count": 130,
     "metadata": {},
     "output_type": "execute_result"
    },
    {
     "data": {
      "image/png": "[encoded data removed]",
      "text/plain": [
       "<Figure size 936x576 with 2 Axes>"
      ]
     },
     "metadata": {},
     "output_type": "display_data"
    }
   ],
   "source": [
    "#heatmap of data correllations\n",
    "plt.figure(figsize=(13,8))\n",
    "c=df18.corr()\n",
    "sns.set_style(\"whitegrid\");\n",
    "sns.heatmap(c,cmap='BrBG',annot=True)\n",
    "plt.title('data correllations of 2018 data')"
   ]
  },
  {
   "cell_type": "code",
   "execution_count": 131,
   "metadata": {},
   "outputs": [
    {
     "data": {
      "text/plain": [
       "Text(0.5, 1, 'data correllations of 2019 data')"
      ]
     },
     "execution_count": 131,
     "metadata": {},
     "output_type": "execute_result"
    },
    {
     "data": {
      "image/png": "[encoded data removed]",
      "text/plain": [
       "<Figure size 936x576 with 2 Axes>"
      ]
     },
     "metadata": {},
     "output_type": "display_data"
    }
   ],
   "source": [
    "#heatmap of data correllations\n",
    "plt.figure(figsize=(13,8))\n",
    "c=df19.corr()\n",
    "sns.set_style(\"whitegrid\");\n",
    "sns.heatmap(c,cmap='BrBG',annot=True)\n",
    "plt.title('data correllations of 2019 data')"
   ]
  },
  {
   "cell_type": "code",
   "execution_count": 132,
   "metadata": {},
   "outputs": [
    {
     "data": {
      "text/plain": [
       "Text(0.5, 1.0, 'distribution of reported cases')"
      ]
     },
     "execution_count": 132,
     "metadata": {},
     "output_type": "execute_result"
    },
    {
     "data": {
      "image/png": "[encoded data removed]",
      "text/plain": [
       "<Figure size 432x288 with 1 Axes>"
      ]
     },
     "metadata": {},
     "output_type": "display_data"
    }
   ],
   "source": [
    "#kde plot  for reported cases\n",
    "x=train['Reported Cases']\n",
    "sns.kdeplot(x, shade=True)\n",
    "plt.title('distribution of reported cases')\n"
   ]
  },
  {
   "cell_type": "code",
   "execution_count": 133,
   "metadata": {},
   "outputs": [
    {
     "data": {
      "text/plain": [
       "Text(0.5, 1.0, 'distribution of death cases')"
      ]
     },
     "execution_count": 133,
     "metadata": {},
     "output_type": "execute_result"
    },
    {
     "data": {
      "image/png": "[encoded data removed]",
      "text/plain": [
       "<Figure size 432x288 with 1 Axes>"
      ]
     },
     "metadata": {},
     "output_type": "display_data"
    }
   ],
   "source": [
    "#kde plot  for reported cases\n",
    "x=train['Death Case']\n",
    "sns.kdeplot(x, shade=True)\n",
    "plt.title('distribution of death cases')\n"
   ]
  },
  {
   "cell_type": "code",
   "execution_count": 134,
   "metadata": {},
   "outputs": [
    {
     "data": {
      "text/plain": [
       "Text(0.5, 1.0, 'count of cases males and females who are infected in 2018')"
      ]
     },
     "execution_count": 134,
     "metadata": {},
     "output_type": "execute_result"
    },
    {
     "data": {
      "image/png": "[encoded data removed]",
      "text/plain": [
       "<Figure size 432x288 with 1 Axes>"
      ]
     },
     "metadata": {},
     "output_type": "display_data"
    }
   ],
   "source": [
    "sns.countplot(x='SEX',data=df18)\n",
    "plt.title('count of cases males and females who are infected in 2018')"
   ]
  },
  {
   "cell_type": "code",
   "execution_count": 135,
   "metadata": {},
   "outputs": [
    {
     "data": {
      "text/plain": [
       "Text(0.5, 1.0, 'count of cases males and females who are infected in 2019')"
      ]
     },
     "execution_count": 135,
     "metadata": {},
     "output_type": "execute_result"
    },
    {
     "data": {
      "image/png": "[encoded data removed]",
      "text/plain": [
       "<Figure size 432x288 with 1 Axes>"
      ]
     },
     "metadata": {},
     "output_type": "display_data"
    }
   ],
   "source": [
    "sns.countplot(x='SEX',data=df19)\n",
    "plt.title('count of cases males and females who are infected in 2019')"
   ]
  },
  {
   "cell_type": "code",
   "execution_count": 136,
   "metadata": {},
   "outputs": [
    {
     "data": {
      "text/plain": [
       "Text(0.5, 1.0, 'count of cases males and females who are infected in 2017')"
      ]
     },
     "execution_count": 136,
     "metadata": {},
     "output_type": "execute_result"
    },
    {
     "data": {
      "image/png": "[encoded data removed]",
      "text/plain": [
       "<Figure size 432x288 with 1 Axes>"
      ]
     },
     "metadata": {},
     "output_type": "display_data"
    }
   ],
   "source": [
    "sns.countplot(x='SEX',data=df17)\n",
    "plt.title('count of cases males and females who are infected in 2017')"
   ]
  },
  {
   "cell_type": "code",
   "execution_count": 137,
   "metadata": {},
   "outputs": [
    {
     "data": {
      "image/png": "[encoded data removed]",
      "text/plain": [
       "<Figure size 504x576 with 1 Axes>"
      ]
     },
     "metadata": {},
     "output_type": "display_data"
    }
   ],
   "source": [
    "#boxplot of the training data\n",
    "plt.figure(figsize=(7,8))\n",
    "sns.boxplot(data=train)\n",
    "plt.title('box plot of the training data')\n",
    "plt.show()\n"
   ]
  },
  {
   "cell_type": "code",
   "execution_count": 138,
   "metadata": {},
   "outputs": [
    {
     "data": {
      "image/png": "[encoded data removed]",
      "text/plain": [
       "<Figure size 504x576 with 1 Axes>"
      ]
     },
     "metadata": {},
     "output_type": "display_data"
    }
   ],
   "source": [
    "#boxplot of the testing  data\n",
    "plt.figure(figsize=(7,8))\n",
    "sns.boxplot(data=test)\n",
    "plt.title('box plot of the training data')\n",
    "plt.show()\n"
   ]
  },
  {
   "cell_type": "code",
   "execution_count": 161,
   "metadata": {},
   "outputs": [
    {
     "data": {
      "text/html": [
       "<div>\n",
       "<style scoped>\n",
       "    .dataframe tbody tr th:only-of-type {\n",
       "        vertical-align: middle;\n",
       "    }\n",
       "\n",
       "    .dataframe tbody tr th {\n",
       "        vertical-align: top;\n",
       "    }\n",
       "\n",
       "    .dataframe thead th {\n",
       "        text-align: right;\n",
       "    }\n",
       "</style>\n",
       "<table border=\"1\" class=\"dataframe\">\n",
       "  <thead>\n",
       "    <tr style=\"text-align: right;\">\n",
       "      <th></th>\n",
       "      <th>Month</th>\n",
       "      <th>Reported Cases</th>\n",
       "      <th>Season</th>\n",
       "      <th>Death Case</th>\n",
       "    </tr>\n",
       "  </thead>\n",
       "  <tbody>\n",
       "    <tr>\n",
       "      <td>0</td>\n",
       "      <td>January</td>\n",
       "      <td>4.0</td>\n",
       "      <td>0</td>\n",
       "      <td>0.0</td>\n",
       "    </tr>\n",
       "    <tr>\n",
       "      <td>1</td>\n",
       "      <td>February</td>\n",
       "      <td>5.0</td>\n",
       "      <td>0</td>\n",
       "      <td>0.0</td>\n",
       "    </tr>\n",
       "    <tr>\n",
       "      <td>2</td>\n",
       "      <td>March</td>\n",
       "      <td>10.0</td>\n",
       "      <td>1</td>\n",
       "      <td>1.0</td>\n",
       "    </tr>\n",
       "    <tr>\n",
       "      <td>3</td>\n",
       "      <td>April</td>\n",
       "      <td>8.0</td>\n",
       "      <td>1</td>\n",
       "      <td>0.0</td>\n",
       "    </tr>\n",
       "    <tr>\n",
       "      <td>4</td>\n",
       "      <td>May</td>\n",
       "      <td>16.0</td>\n",
       "      <td>1</td>\n",
       "      <td>0.0</td>\n",
       "    </tr>\n",
       "    <tr>\n",
       "      <td>5</td>\n",
       "      <td>June</td>\n",
       "      <td>6.0</td>\n",
       "      <td>0</td>\n",
       "      <td>1.0</td>\n",
       "    </tr>\n",
       "    <tr>\n",
       "      <td>6</td>\n",
       "      <td>July</td>\n",
       "      <td>4.0</td>\n",
       "      <td>0</td>\n",
       "      <td>2.0</td>\n",
       "    </tr>\n",
       "    <tr>\n",
       "      <td>7</td>\n",
       "      <td>August</td>\n",
       "      <td>6.0</td>\n",
       "      <td>0</td>\n",
       "      <td>0.0</td>\n",
       "    </tr>\n",
       "    <tr>\n",
       "      <td>8</td>\n",
       "      <td>September</td>\n",
       "      <td>9.0</td>\n",
       "      <td>1</td>\n",
       "      <td>0.0</td>\n",
       "    </tr>\n",
       "    <tr>\n",
       "      <td>9</td>\n",
       "      <td>October</td>\n",
       "      <td>13.0</td>\n",
       "      <td>1</td>\n",
       "      <td>1.0</td>\n",
       "    </tr>\n",
       "    <tr>\n",
       "      <td>10</td>\n",
       "      <td>November</td>\n",
       "      <td>10.0</td>\n",
       "      <td>1</td>\n",
       "      <td>0.0</td>\n",
       "    </tr>\n",
       "    <tr>\n",
       "      <td>11</td>\n",
       "      <td>December</td>\n",
       "      <td>15.0</td>\n",
       "      <td>1</td>\n",
       "      <td>2.0</td>\n",
       "    </tr>\n",
       "    <tr>\n",
       "      <td>12</td>\n",
       "      <td>NaN</td>\n",
       "      <td>NaN</td>\n",
       "      <td>1</td>\n",
       "      <td>NaN</td>\n",
       "    </tr>\n",
       "  </tbody>\n",
       "</table>\n",
       "</div>"
      ],
      "text/plain": [
       "        Month  Reported Cases  Season  Death Case\n",
       "0     January             4.0       0         0.0\n",
       "1    February             5.0       0         0.0\n",
       "2       March            10.0       1         1.0\n",
       "3       April             8.0       1         0.0\n",
       "4         May            16.0       1         0.0\n",
       "5        June             6.0       0         1.0\n",
       "6        July             4.0       0         2.0\n",
       "7      August             6.0       0         0.0\n",
       "8   September             9.0       1         0.0\n",
       "9     October            13.0       1         1.0\n",
       "10   November            10.0       1         0.0\n",
       "11   December            15.0       1         2.0\n",
       "12        NaN             NaN       1         NaN"
      ]
     },
     "execution_count": 161,
     "metadata": {},
     "output_type": "execute_result"
    }
   ],
   "source": [
    "#converting the season values to enable training\n",
    "#let 0 stand for dry\n",
    "#and 1 stand for wet\n",
    "train['Season']=np.where(train['Season']=='Dry',0,1)\n",
    "train"
   ]
  },
  {
   "cell_type": "code",
   "execution_count": 180,
   "metadata": {},
   "outputs": [],
   "source": [
    " train= train.dropna()"
   ]
  },
  {
   "cell_type": "code",
   "execution_count": 181,
   "metadata": {},
   "outputs": [],
   "source": [
    "feat=['Reported Cases','Season']\n",
    "X=train[feat].values\n",
    "y=train['Death Case'].values"
   ]
  },
  {
   "cell_type": "code",
   "execution_count": 182,
   "metadata": {},
   "outputs": [],
   "source": [
    "# splitting the dataset\n",
    "X_train,X_test,y_train,y_test=train_test_split(X,y,test_size=0.3, random_state=1) #70% training set and 30% test"
   ]
  },
  {
   "cell_type": "code",
   "execution_count": 183,
   "metadata": {},
   "outputs": [
    {
     "name": "stdout",
     "output_type": "stream",
     "text": [
      "(8, 2)\n",
      "(4, 2)\n",
      "(8,)\n",
      "(4,)\n"
     ]
    }
   ],
   "source": [
    "print(X_train.shape)\n",
    "print(X_test.shape)\n",
    "print(y_train.shape)\n",
    "print(y_test.shape)"
   ]
  },
  {
   "cell_type": "markdown",
   "metadata": {},
   "source": [
    "### MODEL TRAINING"
   ]
  },
  {
   "cell_type": "code",
   "execution_count": null,
   "metadata": {},
   "outputs": [],
   "source": [
    "\n",
    "\n",
    "#using the linear regression algorithm\n",
    "clf = LinearRegression(normalize=True)\n",
    "#fitting the model\n",
    "clf.fit(X_train,y_train)\n",
    "#making the prediction\n",
    "y_pred = clf.predict(X_test)\n",
    "\n",
    "print(r2_score(y_test,y_pred))"
   ]
  },
  {
   "cell_type": "code",
   "execution_count": 185,
   "metadata": {},
   "outputs": [
    {
     "name": "stdout",
     "output_type": "stream",
     "text": [
      "0.5\n"
     ]
    }
   ],
   "source": [
    "# Random forest Rclassifier\n",
    "rf =RandomForestClassifier(n_estimators=100,oob_score=True,random_state=123)\n",
    "rf.fit(X_train,y_train)\n",
    "pred=rf.predict(X_test)\n",
    "accuracy=accuracy_score(y_test,pred)\n",
    "print(accuracy)"
   ]
  },
  {
   "cell_type": "code",
   "execution_count": 186,
   "metadata": {},
   "outputs": [
    {
     "name": "stdout",
     "output_type": "stream",
     "text": [
      "0.5\n"
     ]
    }
   ],
   "source": [
    "#KNeighborsClassifier\n",
    "kn =KNeighborsClassifier(n_neighbors=4,metric='euclidean')\n",
    "kn.fit(X_train,y_train)\n",
    "\n",
    "y_pred =kn.predict(X_test)\n",
    "accuracy=accuracy_score(y_test,pred)\n",
    "print(accuracy)"
   ]
  },
  {
   "cell_type": "markdown",
   "metadata": {},
   "source": [
    "### Using Support Vector machine "
   ]
  },
  {
   "cell_type": "code",
   "execution_count": 188,
   "metadata": {},
   "outputs": [
    {
     "data": {
      "text/plain": [
       "SVC(C=1.0, cache_size=200, class_weight=None, coef0=0.0,\n",
       "    decision_function_shape='ovr', degree=3, gamma='auto_deprecated',\n",
       "    kernel='rbf', max_iter=-1, probability=False, random_state=0,\n",
       "    shrinking=True, tol=0.001, verbose=False)"
      ]
     },
     "execution_count": 188,
     "metadata": {},
     "output_type": "execute_result"
    }
   ],
   "source": [
    "svm = SVC(kernel='rbf',random_state=0)\n",
    "svm.fit(X_train,y_train)"
   ]
  },
  {
   "cell_type": "code",
   "execution_count": 190,
   "metadata": {},
   "outputs": [
    {
     "data": {
      "text/plain": [
       "0.5"
      ]
     },
     "execution_count": 190,
     "metadata": {},
     "output_type": "execute_result"
    }
   ],
   "source": [
    "svm.score(X_test,y_test)"
   ]
  },
  {
   "cell_type": "markdown",
   "metadata": {},
   "source": [
    "### Applying standard scaler "
   ]
  },
  {
   "cell_type": "code",
   "execution_count": 191,
   "metadata": {},
   "outputs": [],
   "source": [
    "sc = StandardScaler()\n",
    "X_train = sc.fit_transform(X_train)\n",
    "X_test = sc.transform(X_test)"
   ]
  },
  {
   "cell_type": "code",
   "execution_count": 192,
   "metadata": {},
   "outputs": [
    {
     "data": {
      "text/plain": [
       "SVC(C=1.0, cache_size=200, class_weight=None, coef0=0.0,\n",
       "    decision_function_shape='ovr', degree=3, gamma='auto_deprecated',\n",
       "    kernel='rbf', max_iter=-1, probability=True, random_state=0, shrinking=True,\n",
       "    tol=0.001, verbose=False)"
      ]
     },
     "execution_count": 192,
     "metadata": {},
     "output_type": "execute_result"
    }
   ],
   "source": [
    "svm = SVC(kernel='rbf',random_state=0,probability=True) #probability for predict_proba\n",
    "svm.fit(X_train,y_train)"
   ]
  },
  {
   "cell_type": "code",
   "execution_count": 193,
   "metadata": {},
   "outputs": [
    {
     "data": {
      "text/plain": [
       "0.5"
      ]
     },
     "execution_count": 193,
     "metadata": {},
     "output_type": "execute_result"
    }
   ],
   "source": [
    "svm.score(X_test,y_test)"
   ]
  },
  {
   "cell_type": "markdown",
   "metadata": {},
   "source": [
    "### Applying hyper parameter tuning to improve the model accuracy"
   ]
  },
  {
   "cell_type": "code",
   "execution_count": 196,
   "metadata": {},
   "outputs": [
    {
     "name": "stdout",
     "output_type": "stream",
     "text": [
      "Accuracy: 0.75\n",
      "Tuned Model Parameters: {'C': 1, 'degree': 1, 'gamma': 0.01, 'kernel': 'rbf'}\n"
     ]
    }
   ],
   "source": [
    "param_grid = {'C':[1,10,100,200],\n",
    "              'kernel':['rbf','poly','linear','sigmoid'],\n",
    "              'degree':[1,2,4,6],\n",
    "              'gamma':[0.01,0.1,0.5,1]}\n",
    "\n",
    "grid=GridSearchCV(SVC(), param_grid=param_grid, cv=4)\n",
    "grid.fit(X_train,y_train)\n",
    "\n",
    "y_pred = grid.predict(X_test)\n",
    "\n",
    "print(\"Accuracy: {}\".format(grid.score(X_test, y_test)))\n",
    "print(\"Tuned Model Parameters: {}\".format(grid.best_params_))"
   ]
  },
  {
   "cell_type": "markdown",
   "metadata": {},
   "source": [
    "### Confusion matrix"
   ]
  },
  {
   "cell_type": "code",
   "execution_count": 200,
   "metadata": {},
   "outputs": [
    {
     "name": "stdout",
     "output_type": "stream",
     "text": [
      "Confusion Matrix \n",
      " [[2 1]\n",
      " [1 0]]\n"
     ]
    }
   ],
   "source": [
    "y_pred = svm.predict(X_test)\n",
    "cm = confusion_matrix(y_pred,y_test)\n",
    "print('Confusion Matrix \\n',cm)"
   ]
  },
  {
   "cell_type": "raw",
   "metadata": {},
   "source": [
    " False Positive 2\n",
    "- False Negative 1\n",
    "- True Negative 1\n",
    "- True Positive 0\n"
   ]
  },
  {
   "cell_type": "code",
   "execution_count": 201,
   "metadata": {},
   "outputs": [
    {
     "data": {
      "image/png": "[encoded data removed]",
      "text/plain": [
       "<Figure size 432x288 with 2 Axes>"
      ]
     },
     "metadata": {},
     "output_type": "display_data"
    }
   ],
   "source": [
    "plt.figure(figsize=(6,4))\n",
    "sns.heatmap(cm,annot=True,fmt=\"d\") \n",
    "plt.show()"
   ]
  },
  {
   "cell_type": "markdown",
   "metadata": {},
   "source": [
    "### classification report"
   ]
  },
  {
   "cell_type": "code",
   "execution_count": 210,
   "metadata": {},
   "outputs": [],
   "source": [
    "from sklearn.metrics import roc_curve,auc\n",
    "from sklearn.metrics import classification_report"
   ]
  },
  {
   "cell_type": "code",
   "execution_count": 211,
   "metadata": {},
   "outputs": [
    {
     "name": "stdout",
     "output_type": "stream",
     "text": [
      "Classification Report\n",
      "               precision    recall  f1-score   support\n",
      "\n",
      "         0.0       0.67      0.67      0.67         3\n",
      "         1.0       0.00      0.00      0.00         1\n",
      "\n",
      "    accuracy                           0.50         4\n",
      "   macro avg       0.33      0.33      0.33         4\n",
      "weighted avg       0.50      0.50      0.50         4\n",
      "\n"
     ]
    }
   ],
   "source": [
    "cr = classification_report(y_pred,y_test)\n",
    "print('Classification Report\\n',cr)"
   ]
  },
  {
   "cell_type": "markdown",
   "metadata": {},
   "source": [
    "### Roc Curve"
   ]
  },
  {
   "cell_type": "code",
   "execution_count": 212,
   "metadata": {},
   "outputs": [
    {
     "data": {
      "image/png": "[encoded data removed]",
      "text/plain": [
       "<Figure size 576x432 with 1 Axes>"
      ]
     },
     "metadata": {},
     "output_type": "display_data"
    }
   ],
   "source": [
    "y_prob = svm.predict_proba(X_test)[:,1]\n",
    "fpr, tpr, threshold = roc_curve(y_test,y_prob)\n",
    "Auc = auc(fpr, tpr)\n",
    "plt.figure(figsize=(8,6))\n",
    "plt.plot(fpr, tpr,linestyle='-',label='(auc=%0.3f)' %Auc)\n",
    "plt.plot([0,1],[0,1])\n",
    "plt.title('ROC CURVE')\n",
    "plt.xlabel('False Positive Rate')\n",
    "plt.ylabel('True Positive Rate')\n",
    "plt.legend(loc=4)\n",
    "plt.show()"
   ]
  },
  {
   "cell_type": "markdown",
   "metadata": {},
   "source": [
    "### Model complexity"
   ]
  },
  {
   "cell_type": "code",
   "execution_count": 213,
   "metadata": {},
   "outputs": [
    {
     "data": {
      "image/png": "[encoded data removed]",
      "text/plain": [
       "<Figure size 720x432 with 1 Axes>"
      ]
     },
     "metadata": {},
     "output_type": "display_data"
    },
    {
     "name": "stdout",
     "output_type": "stream",
     "text": [
      "Best accuracy is 0.5 with C = 1\n"
     ]
    }
   ],
   "source": [
    "num = np.arange(1, 30)\n",
    "train_accuracy = []\n",
    "test_accuracy = []\n",
    "for i, k in enumerate(num):\n",
    "    svm = SVC(C=k)\n",
    "    svm.fit(X_train,y_train)\n",
    "    train_accuracy.append(svm.score(X_train, y_train))\n",
    "    test_accuracy.append(svm.score(X_test, y_test))\n",
    "\n",
    "# Plot\n",
    "plt.figure(figsize=(10,6))\n",
    "plt.plot(num, test_accuracy, label = 'Testing Accuracy')\n",
    "plt.plot(num, train_accuracy, label = 'Training Accuracy')\n",
    "plt.legend(loc=10)\n",
    "plt.title('value VS Accuracy')\n",
    "plt.xlabel('Number of C')\n",
    "plt.ylabel('Accuracy')\n",
    "plt.xticks(num)\n",
    "plt.show()\n",
    "print(\"Best accuracy is {} with C = {}\".format(np.max(test_accuracy),\n",
    "                                               1+test_accuracy.index(np.max(test_accuracy))))"
   ]
  },
  {
   "cell_type": "code",
   "execution_count": null,
   "metadata": {},
   "outputs": [],
   "source": []
  }
 ],
 "metadata": {
  "colab": {
   "name": "RotaVirus.ipynb",
   "provenance": []
  },
  "kernelspec": {
   "display_name": "Python 3",
   "language": "python",
   "name": "python3"
  },
  "language_info": {
   "codemirror_mode": {
    "name": "ipython",
    "version": 3
   },
   "file_extension": ".py",
   "mimetype": "text/x-python",
   "name": "python",
   "nbconvert_exporter": "python",
   "pygments_lexer": "ipython3",
   "version": "3.7.4"
  }
 },
 "nbformat": 4,
 "nbformat_minor": 1
}
